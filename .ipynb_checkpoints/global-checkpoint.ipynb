{
 "cells": [
  {
   "cell_type": "code",
   "execution_count": 4,
   "metadata": {},
   "outputs": [],
   "source": [
    "import os\n",
    "import sklearn\n",
    "import re\n",
    "from sklearn.model_selection import train_test_split\n",
    "from sklearn.preprocessing import LabelEncoder\n",
    "import numpy as np\n",
    "import cv2\n",
    "import mahotas"
   ]
  },
  {
   "cell_type": "code",
   "execution_count": 5,
   "metadata": {},
   "outputs": [],
   "source": [
    "def get_list_all_files_name(dir_path):\n",
    "    all_files_path = []\n",
    "    for (dirpath, dirnames, filenames) in os.walk(dir_path):\n",
    "        for f in filenames:\n",
    "            all_files_path.append(os.path.join(dirpath, f))\n",
    "    return all_files_path\n",
    "\n"
   ]
  },
  {
   "cell_type": "code",
   "execution_count": 6,
   "metadata": {},
   "outputs": [],
   "source": [
    "data_dir='images/'"
   ]
  },
  {
   "cell_type": "code",
   "execution_count": 7,
   "metadata": {},
   "outputs": [],
   "source": [
    "fish_list=os.listdir(data_dir)\n",
    "urls=[]\n",
    "labels=[]\n",
    "for fish in fish_list:\n",
    "    fishurls=get_list_all_files_name(data_dir+fish)\n",
    "    if len(urls)==0:\n",
    "        urls=fishurls\n",
    "        labels=[fish for i in range(0,len(fishurls))]\n",
    "    else:\n",
    "        urls = urls+fishurls\n",
    "        labels=labels+[fish for i in range(0,len(fishurls))]\n",
    "    "
   ]
  },
  {
   "cell_type": "code",
   "execution_count": 8,
   "metadata": {
    "collapsed": true
   },
   "outputs": [
    {
     "data": {
      "text/plain": [
       "array(['Batasio', 'Bronze featherback', 'Elongate glassy perchlet',\n",
       "       'Gangetic leaffish', 'Gourami', 'Guntea loach', 'Olive Barb',\n",
       "       'Pale carplet', 'Tank goby', 'Tire-track spiny eel'], dtype='<U24')"
      ]
     },
     "execution_count": 8,
     "metadata": {},
     "output_type": "execute_result"
    }
   ],
   "source": [
    "import numpy as np\n",
    "np.unique(labels)"
   ]
  },
  {
   "cell_type": "code",
   "execution_count": 9,
   "metadata": {
    "collapsed": true
   },
   "outputs": [
    {
     "name": "stdout",
     "output_type": "stream",
     "text": [
      "['Batasio' 'Bronze featherback' 'Elongate glassy perchlet'\n",
      " 'Gangetic leaffish' 'Gourami' 'Guntea loach' 'Olive Barb' 'Pale carplet'\n",
      " 'Tank goby' 'Tire-track spiny eel']\n"
     ]
    }
   ],
   "source": [
    "le = LabelEncoder()\n",
    "encoder=le.fit(labels)\n",
    "print(encoder.classes_)\n",
    "encoded_labels=encoder.transform(labels)"
   ]
  },
  {
   "cell_type": "code",
   "execution_count": 10,
   "metadata": {
    "collapsed": true
   },
   "outputs": [
    {
     "data": {
      "text/plain": [
       "array([0, 0, 0, 0, 0, 0, 0, 0, 0, 0, 0, 0, 0, 0, 0, 0, 0, 0, 0, 0, 0, 0,\n",
       "       0, 0, 0, 0, 0, 0, 0, 0, 0, 0, 0, 0, 0, 0, 0, 0, 0, 0, 0, 0, 0, 0,\n",
       "       0, 0, 0, 0, 0, 0, 0, 0, 0, 0, 0, 0, 0, 0, 0, 0, 1, 1, 1, 1, 1, 1,\n",
       "       1, 1, 1, 1, 1, 1, 1, 1, 1, 1, 1, 2, 2, 2, 2, 2, 2, 2, 2, 2, 2, 2,\n",
       "       2, 2, 2, 2, 2, 2, 2, 2, 2, 2, 2, 2, 2, 2, 2, 2, 2, 2, 2, 2, 2, 2,\n",
       "       2, 2, 2, 2, 2, 2, 2, 2, 2, 2, 2, 2, 2, 2, 2, 2, 2, 2, 2, 2, 2, 2,\n",
       "       2, 2, 2, 2, 2, 2, 2, 2, 2, 2, 2, 2, 2, 2, 2, 2, 2, 2, 2, 2, 2, 2,\n",
       "       2, 2, 2, 2, 2, 2, 2, 2, 2, 2, 2, 2, 2, 2, 2, 2, 2, 2, 2, 3, 3, 3,\n",
       "       3, 3, 3, 3, 3, 3, 3, 3, 3, 3, 3, 3, 3, 3, 4, 4, 4, 4, 4, 4, 4, 4,\n",
       "       4, 4, 4, 4, 4, 4, 4, 4, 4, 4, 4, 5, 5, 5, 5, 5, 5, 5, 5, 5, 5, 5,\n",
       "       5, 5, 5, 5, 5, 5, 5, 5, 5, 5, 5, 5, 5, 5, 5, 5, 5, 5, 5, 5, 5, 5,\n",
       "       5, 5, 5, 5, 5, 5, 5, 5, 5, 5, 5, 5, 5, 5, 5, 5, 5, 5, 5, 5, 5, 5,\n",
       "       5, 5, 5, 5, 6, 6, 6, 6, 6, 6, 6, 6, 6, 6, 6, 6, 6, 6, 6, 6, 6, 6,\n",
       "       6, 6, 6, 6, 6, 6, 6, 6, 6, 6, 6, 6, 6, 6, 6, 6, 6, 6, 6, 7, 7, 7,\n",
       "       7, 7, 7, 7, 7, 7, 7, 7, 7, 7, 7, 7, 7, 7, 7, 7, 7, 7, 7, 7, 7, 7,\n",
       "       7, 7, 7, 7, 7, 7, 7, 7, 7, 7, 7, 7, 7, 7, 7, 7, 7, 7, 7, 7, 7, 7,\n",
       "       7, 8, 8, 8, 8, 8, 8, 8, 8, 8, 8, 8, 8, 8, 8, 8, 8, 8, 8, 8, 8, 8,\n",
       "       8, 8, 8, 8, 8, 8, 8, 8, 8, 8, 8, 8, 8, 8, 8, 8, 8, 8, 8, 8, 8, 8,\n",
       "       8, 8, 8, 8, 8, 8, 8, 8, 8, 8, 8, 8, 8, 8, 8, 8, 8, 8, 8, 8, 8, 8,\n",
       "       8, 8, 8, 8, 8, 8, 8, 8, 8, 8, 8, 8, 9, 9, 9, 9, 9, 9, 9, 9, 9, 9,\n",
       "       9, 9, 9, 9, 9, 9, 9, 9, 9, 9, 9, 9, 9, 9, 9, 9, 9, 9, 9, 9, 9, 9,\n",
       "       9, 9, 9, 9, 9, 9, 9, 9, 9, 9, 9, 9, 9, 9, 9, 9, 9, 9, 9, 9, 9, 9,\n",
       "       9, 9, 9, 9, 9, 9, 9, 9, 9, 9, 9, 9, 9, 9, 9, 9], dtype=int64)"
      ]
     },
     "execution_count": 10,
     "metadata": {},
     "output_type": "execute_result"
    }
   ],
   "source": [
    "encoded_labels"
   ]
  },
  {
   "cell_type": "code",
   "execution_count": 11,
   "metadata": {},
   "outputs": [],
   "source": [
    "fixed_size = tuple((64, 64))\n",
    "bins = 8\n",
    "\n",
    "def fd_hu_moments(image):\n",
    "    image = cv2.cvtColor(image, cv2.COLOR_BGR2GRAY)\n",
    "    feature = cv2.HuMoments(cv2.moments(image)).flatten()\n",
    "    return feature\n",
    "def fd_haralick(image):\n",
    "    gray = cv2.cvtColor(image, cv2.COLOR_BGR2GRAY)\n",
    "    haralick = mahotas.features.haralick(gray).mean(axis=0)\n",
    "    return haralick\n",
    "def fd_histogram(image, mask=None):\n",
    "    image = cv2.cvtColor(image, cv2.COLOR_BGR2HSV)\n",
    "    hist = cv2.calcHist([image], [0, 1, 2], None, [bins, bins, bins], [0, 256, 0, 256, 0, 256])\n",
    "    cv2.normalize(hist, hist)\n",
    "    return hist.flatten()\n",
    "def feature_extraction(url):\n",
    "    features=[]\n",
    "    image = cv2.imread(url)\n",
    "    image = cv2.resize(image, fixed_size)\n",
    "    # Global Feature extraction\n",
    "    fv_hu_moments = fd_hu_moments(image)\n",
    "    fv_haralick = fd_haralick(image)\n",
    "    fv_histogram = fd_histogram(image)\n",
    "    # Concatenate global features\n",
    "    features = np.hstack([fv_histogram, fv_haralick, fv_hu_moments])\n",
    "    return features"
   ]
  },
  {
   "cell_type": "code",
   "execution_count": 12,
   "metadata": {
    "collapsed": true
   },
   "outputs": [
    {
     "name": "stdout",
     "output_type": "stream",
     "text": [
      "500\n",
      "['Batasio', 'Batasio', 'Batasio', 'Batasio', 'Batasio', 'Batasio', 'Batasio', 'Batasio', 'Batasio', 'Batasio', 'Batasio', 'Batasio', 'Batasio', 'Batasio', 'Batasio', 'Batasio', 'Batasio', 'Batasio', 'Batasio', 'Batasio', 'Batasio', 'Batasio', 'Batasio', 'Batasio', 'Batasio', 'Batasio', 'Batasio', 'Batasio', 'Batasio', 'Batasio', 'Batasio', 'Batasio', 'Batasio', 'Batasio', 'Batasio', 'Batasio', 'Batasio', 'Batasio', 'Batasio', 'Batasio', 'Batasio', 'Batasio', 'Batasio', 'Batasio', 'Batasio', 'Batasio', 'Batasio', 'Batasio', 'Batasio', 'Batasio', 'Batasio', 'Batasio', 'Batasio', 'Batasio', 'Batasio', 'Batasio', 'Batasio', 'Batasio', 'Batasio', 'Batasio', 'Bronze featherback', 'Bronze featherback', 'Bronze featherback', 'Bronze featherback', 'Bronze featherback', 'Bronze featherback', 'Bronze featherback', 'Bronze featherback', 'Bronze featherback', 'Bronze featherback', 'Bronze featherback', 'Bronze featherback', 'Bronze featherback', 'Bronze featherback', 'Bronze featherback', 'Bronze featherback', 'Bronze featherback', 'Elongate glassy perchlet', 'Elongate glassy perchlet', 'Elongate glassy perchlet', 'Elongate glassy perchlet', 'Elongate glassy perchlet', 'Elongate glassy perchlet', 'Elongate glassy perchlet', 'Elongate glassy perchlet', 'Elongate glassy perchlet', 'Elongate glassy perchlet', 'Elongate glassy perchlet', 'Elongate glassy perchlet', 'Elongate glassy perchlet', 'Elongate glassy perchlet', 'Elongate glassy perchlet', 'Elongate glassy perchlet', 'Elongate glassy perchlet', 'Elongate glassy perchlet', 'Elongate glassy perchlet', 'Elongate glassy perchlet', 'Elongate glassy perchlet', 'Elongate glassy perchlet', 'Elongate glassy perchlet', 'Elongate glassy perchlet', 'Elongate glassy perchlet', 'Elongate glassy perchlet', 'Elongate glassy perchlet', 'Elongate glassy perchlet', 'Elongate glassy perchlet', 'Elongate glassy perchlet', 'Elongate glassy perchlet', 'Elongate glassy perchlet', 'Elongate glassy perchlet', 'Elongate glassy perchlet', 'Elongate glassy perchlet', 'Elongate glassy perchlet', 'Elongate glassy perchlet', 'Elongate glassy perchlet', 'Elongate glassy perchlet', 'Elongate glassy perchlet', 'Elongate glassy perchlet', 'Elongate glassy perchlet', 'Elongate glassy perchlet', 'Elongate glassy perchlet', 'Elongate glassy perchlet', 'Elongate glassy perchlet', 'Elongate glassy perchlet', 'Elongate glassy perchlet', 'Elongate glassy perchlet', 'Elongate glassy perchlet', 'Elongate glassy perchlet', 'Elongate glassy perchlet', 'Elongate glassy perchlet', 'Elongate glassy perchlet', 'Elongate glassy perchlet', 'Elongate glassy perchlet', 'Elongate glassy perchlet', 'Elongate glassy perchlet', 'Elongate glassy perchlet', 'Elongate glassy perchlet', 'Elongate glassy perchlet', 'Elongate glassy perchlet', 'Elongate glassy perchlet', 'Elongate glassy perchlet', 'Elongate glassy perchlet', 'Elongate glassy perchlet', 'Elongate glassy perchlet', 'Elongate glassy perchlet', 'Elongate glassy perchlet', 'Elongate glassy perchlet', 'Elongate glassy perchlet', 'Elongate glassy perchlet', 'Elongate glassy perchlet', 'Elongate glassy perchlet', 'Elongate glassy perchlet', 'Elongate glassy perchlet', 'Elongate glassy perchlet', 'Elongate glassy perchlet', 'Elongate glassy perchlet', 'Elongate glassy perchlet', 'Elongate glassy perchlet', 'Elongate glassy perchlet', 'Elongate glassy perchlet', 'Elongate glassy perchlet', 'Elongate glassy perchlet', 'Elongate glassy perchlet', 'Elongate glassy perchlet', 'Elongate glassy perchlet', 'Elongate glassy perchlet', 'Elongate glassy perchlet', 'Elongate glassy perchlet', 'Elongate glassy perchlet', 'Elongate glassy perchlet', 'Elongate glassy perchlet', 'Elongate glassy perchlet', 'Elongate glassy perchlet', 'Gangetic leaffish', 'Gangetic leaffish', 'Gangetic leaffish', 'Gangetic leaffish', 'Gangetic leaffish', 'Gangetic leaffish', 'Gangetic leaffish', 'Gangetic leaffish', 'Gangetic leaffish', 'Gangetic leaffish', 'Gangetic leaffish', 'Gangetic leaffish', 'Gangetic leaffish', 'Gangetic leaffish', 'Gangetic leaffish', 'Gangetic leaffish', 'Gangetic leaffish', 'Gourami', 'Gourami', 'Gourami', 'Gourami', 'Gourami', 'Gourami', 'Gourami', 'Gourami', 'Gourami', 'Gourami', 'Gourami', 'Gourami', 'Gourami', 'Gourami', 'Gourami', 'Gourami', 'Gourami', 'Gourami', 'Gourami', 'Guntea loach', 'Guntea loach', 'Guntea loach', 'Guntea loach', 'Guntea loach', 'Guntea loach', 'Guntea loach', 'Guntea loach', 'Guntea loach', 'Guntea loach', 'Guntea loach', 'Guntea loach', 'Guntea loach', 'Guntea loach', 'Guntea loach', 'Guntea loach', 'Guntea loach', 'Guntea loach', 'Guntea loach', 'Guntea loach', 'Guntea loach', 'Guntea loach', 'Guntea loach', 'Guntea loach', 'Guntea loach', 'Guntea loach', 'Guntea loach', 'Guntea loach', 'Guntea loach', 'Guntea loach', 'Guntea loach', 'Guntea loach', 'Guntea loach', 'Guntea loach', 'Guntea loach', 'Guntea loach', 'Guntea loach', 'Guntea loach', 'Guntea loach', 'Guntea loach', 'Guntea loach', 'Guntea loach', 'Guntea loach', 'Guntea loach', 'Guntea loach', 'Guntea loach', 'Guntea loach', 'Guntea loach', 'Guntea loach', 'Guntea loach', 'Guntea loach', 'Guntea loach', 'Guntea loach', 'Guntea loach', 'Guntea loach', 'Guntea loach', 'Guntea loach', 'Guntea loach', 'Guntea loach', 'Olive Barb', 'Olive Barb', 'Olive Barb', 'Olive Barb', 'Olive Barb', 'Olive Barb', 'Olive Barb', 'Olive Barb', 'Olive Barb', 'Olive Barb', 'Olive Barb', 'Olive Barb', 'Olive Barb', 'Olive Barb', 'Olive Barb', 'Olive Barb', 'Olive Barb', 'Olive Barb', 'Olive Barb', 'Olive Barb', 'Olive Barb', 'Olive Barb', 'Olive Barb', 'Olive Barb', 'Olive Barb', 'Olive Barb', 'Olive Barb', 'Olive Barb', 'Olive Barb', 'Olive Barb', 'Olive Barb', 'Olive Barb', 'Olive Barb', 'Olive Barb', 'Olive Barb', 'Olive Barb', 'Olive Barb', 'Pale carplet', 'Pale carplet', 'Pale carplet', 'Pale carplet', 'Pale carplet', 'Pale carplet', 'Pale carplet', 'Pale carplet', 'Pale carplet', 'Pale carplet', 'Pale carplet', 'Pale carplet', 'Pale carplet', 'Pale carplet', 'Pale carplet', 'Pale carplet', 'Pale carplet', 'Pale carplet', 'Pale carplet', 'Pale carplet', 'Pale carplet', 'Pale carplet', 'Pale carplet', 'Pale carplet', 'Pale carplet', 'Pale carplet', 'Pale carplet', 'Pale carplet', 'Pale carplet', 'Pale carplet', 'Pale carplet', 'Pale carplet', 'Pale carplet', 'Pale carplet', 'Pale carplet', 'Pale carplet', 'Pale carplet', 'Pale carplet', 'Pale carplet', 'Pale carplet', 'Pale carplet', 'Pale carplet', 'Pale carplet', 'Pale carplet', 'Pale carplet', 'Pale carplet', 'Pale carplet', 'Pale carplet', 'Tank goby', 'Tank goby', 'Tank goby', 'Tank goby', 'Tank goby', 'Tank goby', 'Tank goby', 'Tank goby', 'Tank goby', 'Tank goby', 'Tank goby', 'Tank goby', 'Tank goby', 'Tank goby', 'Tank goby', 'Tank goby', 'Tank goby', 'Tank goby', 'Tank goby', 'Tank goby', 'Tank goby', 'Tank goby', 'Tank goby', 'Tank goby', 'Tank goby', 'Tank goby', 'Tank goby', 'Tank goby', 'Tank goby', 'Tank goby', 'Tank goby', 'Tank goby', 'Tank goby', 'Tank goby', 'Tank goby', 'Tank goby', 'Tank goby', 'Tank goby', 'Tank goby', 'Tank goby', 'Tank goby', 'Tank goby', 'Tank goby', 'Tank goby', 'Tank goby', 'Tank goby', 'Tank goby', 'Tank goby', 'Tank goby', 'Tank goby', 'Tank goby', 'Tank goby', 'Tank goby', 'Tank goby', 'Tank goby', 'Tank goby', 'Tank goby', 'Tank goby', 'Tank goby', 'Tank goby', 'Tank goby', 'Tank goby', 'Tank goby', 'Tank goby', 'Tank goby', 'Tank goby', 'Tank goby', 'Tank goby', 'Tank goby', 'Tank goby', 'Tank goby', 'Tank goby', 'Tank goby', 'Tank goby', 'Tank goby', 'Tank goby', 'Tank goby', 'Tire-track spiny eel', 'Tire-track spiny eel', 'Tire-track spiny eel', 'Tire-track spiny eel', 'Tire-track spiny eel', 'Tire-track spiny eel', 'Tire-track spiny eel', 'Tire-track spiny eel', 'Tire-track spiny eel', 'Tire-track spiny eel', 'Tire-track spiny eel', 'Tire-track spiny eel', 'Tire-track spiny eel', 'Tire-track spiny eel', 'Tire-track spiny eel', 'Tire-track spiny eel', 'Tire-track spiny eel', 'Tire-track spiny eel', 'Tire-track spiny eel', 'Tire-track spiny eel', 'Tire-track spiny eel', 'Tire-track spiny eel', 'Tire-track spiny eel', 'Tire-track spiny eel', 'Tire-track spiny eel', 'Tire-track spiny eel', 'Tire-track spiny eel', 'Tire-track spiny eel', 'Tire-track spiny eel', 'Tire-track spiny eel', 'Tire-track spiny eel', 'Tire-track spiny eel', 'Tire-track spiny eel', 'Tire-track spiny eel', 'Tire-track spiny eel', 'Tire-track spiny eel', 'Tire-track spiny eel', 'Tire-track spiny eel', 'Tire-track spiny eel', 'Tire-track spiny eel', 'Tire-track spiny eel', 'Tire-track spiny eel', 'Tire-track spiny eel', 'Tire-track spiny eel', 'Tire-track spiny eel', 'Tire-track spiny eel', 'Tire-track spiny eel', 'Tire-track spiny eel', 'Tire-track spiny eel', 'Tire-track spiny eel', 'Tire-track spiny eel', 'Tire-track spiny eel', 'Tire-track spiny eel', 'Tire-track spiny eel', 'Tire-track spiny eel', 'Tire-track spiny eel', 'Tire-track spiny eel', 'Tire-track spiny eel', 'Tire-track spiny eel', 'Tire-track spiny eel', 'Tire-track spiny eel', 'Tire-track spiny eel', 'Tire-track spiny eel', 'Tire-track spiny eel', 'Tire-track spiny eel', 'Tire-track spiny eel', 'Tire-track spiny eel', 'Tire-track spiny eel', 'Tire-track spiny eel', 'Tire-track spiny eel']\n"
     ]
    }
   ],
   "source": [
    "data = [feature_extraction(url) for url in urls ]\n",
    "print(len(data))\n",
    "print(labels)"
   ]
  },
  {
   "cell_type": "code",
   "execution_count": 13,
   "metadata": {
    "collapsed": true
   },
   "outputs": [
    {
     "name": "stdout",
     "output_type": "stream",
     "text": [
      "Total train data:  375\n",
      "Total test data:  125\n"
     ]
    }
   ],
   "source": [
    "X_train, X_test, y_train, y_test = train_test_split(data, labels, test_size=0.25, random_state=42)\n",
    "print('Total train data: ', len(X_train))\n",
    "print('Total test data: ', len(X_test))\n",
    "from sklearn.ensemble import RandomForestClassifier\n",
    "clf = RandomForestClassifier(n_estimators=100, random_state=9)\n",
    "clf.fit(X_train, y_train)\n",
    "prediction=clf.predict(X_test)\n",
    "\n",
    "\n"
   ]
  },
  {
   "cell_type": "code",
   "execution_count": 14,
   "metadata": {
    "collapsed": true
   },
   "outputs": [
    {
     "name": "stdout",
     "output_type": "stream",
     "text": [
      "Accuracy: 0.88\n",
      "F1 score: 0.88\n",
      "Recall: 0.88\n",
      "Precision: 0.88\n",
      "\n",
      " clasification report:\n",
      "                           precision    recall  f1-score   support\n",
      "\n",
      "                 Batasio       1.00      1.00      1.00        16\n",
      "      Bronze featherback       1.00      0.75      0.86         8\n",
      "Elongate glassy perchlet       1.00      0.95      0.97        20\n",
      "       Gangetic leaffish       1.00      1.00      1.00         5\n",
      "                 Gourami       1.00      1.00      1.00         3\n",
      "            Guntea loach       0.80      0.80      0.80        10\n",
      "              Olive Barb       0.75      0.75      0.75         8\n",
      "            Pale carplet       0.77      1.00      0.87        17\n",
      "               Tank goby       0.82      0.78      0.80        18\n",
      "    Tire-track spiny eel       0.84      0.80      0.82        20\n",
      "\n",
      "               micro avg       0.88      0.88      0.88       125\n",
      "               macro avg       0.90      0.88      0.89       125\n",
      "            weighted avg       0.89      0.88      0.88       125\n",
      "\n",
      "\n",
      " confussion matrix:\n",
      " [[16  0  0  0  0  0  0  0  0  0]\n",
      " [ 0  6  0  0  0  0  0  2  0  0]\n",
      " [ 0  0 19  0  0  0  0  1  0  0]\n",
      " [ 0  0  0  5  0  0  0  0  0  0]\n",
      " [ 0  0  0  0  3  0  0  0  0  0]\n",
      " [ 0  0  0  0  0  8  1  0  1  0]\n",
      " [ 0  0  0  0  0  0  6  2  0  0]\n",
      " [ 0  0  0  0  0  0  0 17  0  0]\n",
      " [ 0  0  0  0  0  1  0  0 14  3]\n",
      " [ 0  0  0  0  0  1  1  0  2 16]]\n"
     ]
    }
   ],
   "source": [
    "from sklearn.metrics import precision_score, \\\n",
    "recall_score, confusion_matrix, classification_report, \\\n",
    "accuracy_score, f1_score\n",
    "print('Accuracy:', accuracy_score(y_test, prediction))\n",
    "print('F1 score:', f1_score(y_test, prediction,average='micro'))\n",
    "print('Recall:', recall_score(y_test, prediction,average='micro'))\n",
    "print('Precision:', precision_score(y_test, prediction,average='micro'))\n",
    "print('\\n clasification report:\\n', classification_report(y_test,prediction))\n",
    "print('\\n confussion matrix:\\n',confusion_matrix(y_test, prediction))\n",
    "\n"
   ]
  }
 ],
 "metadata": {
  "kernelspec": {
   "display_name": "Python 3",
   "language": "python",
   "name": "python3"
  },
  "language_info": {
   "codemirror_mode": {
    "name": "ipython",
    "version": 3
   },
   "file_extension": ".py",
   "mimetype": "text/x-python",
   "name": "python",
   "nbconvert_exporter": "python",
   "pygments_lexer": "ipython3",
   "version": "3.7.1"
  }
 },
 "nbformat": 4,
 "nbformat_minor": 2
}
